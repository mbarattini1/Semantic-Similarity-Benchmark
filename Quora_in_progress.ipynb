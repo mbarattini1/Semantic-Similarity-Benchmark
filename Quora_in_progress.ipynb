{
 "cells": [
  {
   "cell_type": "code",
   "execution_count": null,
   "id": "bf39c309",
   "metadata": {},
   "outputs": [],
   "source": [
    "import matplotlib.pyplot as plt\n",
    "from sklearn import svm\n",
    "from sklearn.datasets import make_blobs\n",
    "from sklearn.inspection import DecisionBoundaryDisplay\n",
    "from utils import load_model\n",
    "from datasets import load_dataset\n",
    "import pandas as pd\n",
    "import numpy as np\n",
    "from tqdm import tqdm\n",
    "from sklearn.metrics.pairwise import cosine_similarity\n",
    "tqdm.pandas()"
   ]
  },
  {
   "cell_type": "code",
   "execution_count": null,
   "id": "5741a1d9",
   "metadata": {},
   "outputs": [],
   "source": [
    "quora_train = pd.read_excel(\"data\\quora-question-pairs\\train.csv\")\n"
   ]
  },
  {
   "cell_type": "code",
   "execution_count": null,
   "id": "f921a022",
   "metadata": {},
   "outputs": [],
   "source": [
    "quora_data"
   ]
  },
  {
   "cell_type": "code",
   "execution_count": null,
   "id": "1a6bd0b5",
   "metadata": {},
   "outputs": [],
   "source": [
    "test = pd.DataFrame(quora_data['train']['questions'][0:10])"
   ]
  },
  {
   "cell_type": "code",
   "execution_count": null,
   "id": "f6cf09a7",
   "metadata": {},
   "outputs": [],
   "source": [
    "test['text'][0]"
   ]
  },
  {
   "cell_type": "code",
   "execution_count": null,
   "id": "581ec645",
   "metadata": {},
   "outputs": [],
   "source": [
    "quora_data['train']['features']"
   ]
  },
  {
   "cell_type": "code",
   "execution_count": null,
   "id": "b3c39e27",
   "metadata": {},
   "outputs": [],
   "source": []
  }
 ],
 "metadata": {
  "kernelspec": {
   "display_name": "Python 3 (ipykernel)",
   "language": "python",
   "name": "python3"
  },
  "language_info": {
   "codemirror_mode": {
    "name": "ipython",
    "version": 3
   },
   "file_extension": ".py",
   "mimetype": "text/x-python",
   "name": "python",
   "nbconvert_exporter": "python",
   "pygments_lexer": "ipython3",
   "version": "3.8.13"
  }
 },
 "nbformat": 4,
 "nbformat_minor": 5
}
